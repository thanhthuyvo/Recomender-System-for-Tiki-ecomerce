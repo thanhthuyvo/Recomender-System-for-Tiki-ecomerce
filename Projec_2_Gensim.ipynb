{
 "cells": [
  {
   "cell_type": "code",
   "execution_count": null,
   "metadata": {
    "colab": {
     "base_uri": "https://localhost:8080/"
    },
    "executionInfo": {
     "elapsed": 17594,
     "status": "ok",
     "timestamp": 1676384322069,
     "user": {
      "displayName": "Lưu Nguyễn Khải Hoàn",
      "userId": "12754983180713265756"
     },
     "user_tz": -420
    },
    "id": "Mx3hExd-ObCa",
    "outputId": "e92ba0c2-779f-4160-9774-8847f4d6875c"
   },
   "outputs": [
    {
     "name": "stdout",
     "output_type": "stream",
     "text": [
      "Looking in indexes: https://pypi.org/simple, https://us-python.pkg.dev/colab-wheels/public/simple/\n",
      "Requirement already satisfied: gensim in /usr/local/lib/python3.8/dist-packages (3.6.0)\n",
      "Requirement already satisfied: numpy>=1.11.3 in /usr/local/lib/python3.8/dist-packages (from gensim) (1.21.6)\n",
      "Requirement already satisfied: six>=1.5.0 in /usr/local/lib/python3.8/dist-packages (from gensim) (1.15.0)\n",
      "Requirement already satisfied: smart-open>=1.2.1 in /usr/local/lib/python3.8/dist-packages (from gensim) (6.3.0)\n",
      "Requirement already satisfied: scipy>=0.18.1 in /usr/local/lib/python3.8/dist-packages (from gensim) (1.7.3)\n",
      "Looking in indexes: https://pypi.org/simple, https://us-python.pkg.dev/colab-wheels/public/simple/\n",
      "Requirement already satisfied: jieba in /usr/local/lib/python3.8/dist-packages (0.42.1)\n",
      "Looking in indexes: https://pypi.org/simple, https://us-python.pkg.dev/colab-wheels/public/simple/\n",
      "Requirement already satisfied: underthesea in /usr/local/lib/python3.8/dist-packages (6.1.1)\n",
      "Requirement already satisfied: python-crfsuite>=0.9.6 in /usr/local/lib/python3.8/dist-packages (from underthesea) (0.9.9)\n",
      "Requirement already satisfied: nltk in /usr/local/lib/python3.8/dist-packages (from underthesea) (3.7)\n",
      "Requirement already satisfied: tqdm in /usr/local/lib/python3.8/dist-packages (from underthesea) (4.64.1)\n",
      "Requirement already satisfied: underthesea-core==0.0.5a2 in /usr/local/lib/python3.8/dist-packages (from underthesea) (0.0.5a2)\n",
      "Requirement already satisfied: scikit-learn in /usr/local/lib/python3.8/dist-packages (from underthesea) (1.0.2)\n",
      "Requirement already satisfied: joblib in /usr/local/lib/python3.8/dist-packages (from underthesea) (1.2.0)\n",
      "Requirement already satisfied: Click>=6.0 in /usr/local/lib/python3.8/dist-packages (from underthesea) (7.1.2)\n",
      "Requirement already satisfied: PyYAML in /usr/local/lib/python3.8/dist-packages (from underthesea) (6.0)\n",
      "Requirement already satisfied: requests in /usr/local/lib/python3.8/dist-packages (from underthesea) (2.25.1)\n",
      "Requirement already satisfied: regex>=2021.8.3 in /usr/local/lib/python3.8/dist-packages (from nltk->underthesea) (2022.6.2)\n",
      "Requirement already satisfied: urllib3<1.27,>=1.21.1 in /usr/local/lib/python3.8/dist-packages (from requests->underthesea) (1.24.3)\n",
      "Requirement already satisfied: chardet<5,>=3.0.2 in /usr/local/lib/python3.8/dist-packages (from requests->underthesea) (4.0.0)\n",
      "Requirement already satisfied: certifi>=2017.4.17 in /usr/local/lib/python3.8/dist-packages (from requests->underthesea) (2022.12.7)\n",
      "Requirement already satisfied: idna<3,>=2.5 in /usr/local/lib/python3.8/dist-packages (from requests->underthesea) (2.10)\n",
      "Requirement already satisfied: numpy>=1.14.6 in /usr/local/lib/python3.8/dist-packages (from scikit-learn->underthesea) (1.21.6)\n",
      "Requirement already satisfied: threadpoolctl>=2.0.0 in /usr/local/lib/python3.8/dist-packages (from scikit-learn->underthesea) (3.1.0)\n",
      "Requirement already satisfied: scipy>=1.1.0 in /usr/local/lib/python3.8/dist-packages (from scikit-learn->underthesea) (1.7.3)\n"
     ]
    }
   ],
   "source": [
    "# !pip install gensim\n",
    "# !pip install jieba\n",
    "# !pip install underthesea"
   ]
  },
  {
   "cell_type": "code",
   "execution_count": 5,
   "metadata": {
    "colab": {
     "base_uri": "https://localhost:8080/"
    },
    "executionInfo": {
     "elapsed": 6045,
     "status": "ok",
     "timestamp": 1676384328106,
     "user": {
      "displayName": "Lưu Nguyễn Khải Hoàn",
      "userId": "12754983180713265756"
     },
     "user_tz": -420
    },
    "id": "Aw8Dn0xsPLBx",
    "outputId": "558646cf-37e0-499a-e208-2f458902c4d4"
   },
   "outputs": [],
   "source": [
    "# from google.colab import drive\n",
    "# drive.mount('/content/gdrive', force_remount=True)"
   ]
  },
  {
   "cell_type": "code",
   "execution_count": 6,
   "metadata": {
    "colab": {
     "base_uri": "https://localhost:8080/"
    },
    "executionInfo": {
     "elapsed": 13,
     "status": "ok",
     "timestamp": 1676384328106,
     "user": {
      "displayName": "Lưu Nguyễn Khải Hoàn",
      "userId": "12754983180713265756"
     },
     "user_tz": -420
    },
    "id": "EPG8hyrcPMY4",
    "outputId": "f43bd73f-8b35-4fa6-8584-da9dc06be7d5"
   },
   "outputs": [],
   "source": [
    "# %cd '/content/gdrive/MyDrive/Data_Sicience/LDS0_K282_ONLINE_LuuNguyenKhaiHoan/Project_2/Data'"
   ]
  },
  {
   "cell_type": "code",
   "execution_count": 7,
   "metadata": {},
   "outputs": [
    {
     "name": "stdout",
     "output_type": "stream",
     "text": [
      "C:\\Users\\khaih\\Downloads\\Project_2\\Data\n"
     ]
    }
   ],
   "source": [
    "%cd \"C:\\Users\\khaih\\Downloads\\Project_2\\Data\""
   ]
  },
  {
   "cell_type": "code",
   "execution_count": 8,
   "metadata": {
    "id": "UtrbVnOfPNkf"
   },
   "outputs": [],
   "source": [
    "import numpy as np\n",
    "import pandas as pd\n",
    "from pylab import rcParams\n",
    "import matplotlib.pyplot as plt\n",
    "from sklearn.feature_extraction.text import TfidfVectorizer\n",
    "from sklearn.metrics.pairwise import linear_kernel, cosine_similarity\n",
    "from underthesea import word_tokenize, pos_tag, sent_tokenize\n",
    "import warnings\n",
    "from gensim import corpora, models, similarities\n",
    "import jieba\n",
    "import re"
   ]
  },
  {
   "cell_type": "code",
   "execution_count": 9,
   "metadata": {
    "id": "tdFmZmIkPOrH"
   },
   "outputs": [],
   "source": [
    "STOP_WORD_FILE='vietnamese-stopwords.txt'"
   ]
  },
  {
   "cell_type": "code",
   "execution_count": 10,
   "metadata": {
    "id": "OD0MBAJeKd6s"
   },
   "outputs": [],
   "source": [
    "#LOAD wrong words\n",
    "file = open('wrong-word.txt', 'r', encoding=\"utf8\")\n",
    "wrong_lst = file.read().split('\\n')\n",
    "file.close()"
   ]
  },
  {
   "cell_type": "code",
   "execution_count": 11,
   "metadata": {
    "id": "2HVD7baIPQD4"
   },
   "outputs": [],
   "source": [
    "with open(STOP_WORD_FILE, 'r', encoding='utf-8') as file:\n",
    "    stop_words = file.read()\n",
    "\n",
    "stop_words = stop_words.split('\\n')"
   ]
  },
  {
   "cell_type": "markdown",
   "metadata": {},
   "source": [
    "### Read Data"
   ]
  },
  {
   "cell_type": "code",
   "execution_count": 12,
   "metadata": {
    "id": "mni7pruLPRy3"
   },
   "outputs": [],
   "source": [
    "import pandas as pd\n",
    "products= pd.read_csv(\"pre_products.csv\",delimiter=',', index_col=0)\n",
    "reviews=pd.read_csv(\"ReviewRaw.csv\",delimiter=',')"
   ]
  },
  {
   "cell_type": "code",
   "execution_count": 13,
   "metadata": {
    "colab": {
     "base_uri": "https://localhost:8080/",
     "height": 423
    },
    "executionInfo": {
     "elapsed": 20,
     "status": "ok",
     "timestamp": 1676384334089,
     "user": {
      "displayName": "Lưu Nguyễn Khải Hoàn",
      "userId": "12754983180713265756"
     },
     "user_tz": -420
    },
    "id": "ArEtZEEwPkvK",
    "outputId": "49c78e01-5c2e-4d6a-fe91-b7ea34ce3976"
   },
   "outputs": [
    {
     "data": {
      "text/html": [
       "<div>\n",
       "<style scoped>\n",
       "    .dataframe tbody tr th:only-of-type {\n",
       "        vertical-align: middle;\n",
       "    }\n",
       "\n",
       "    .dataframe tbody tr th {\n",
       "        vertical-align: top;\n",
       "    }\n",
       "\n",
       "    .dataframe thead th {\n",
       "        text-align: right;\n",
       "    }\n",
       "</style>\n",
       "<table border=\"1\" class=\"dataframe\">\n",
       "  <thead>\n",
       "    <tr style=\"text-align: right;\">\n",
       "      <th></th>\n",
       "      <th>index</th>\n",
       "      <th>item_id</th>\n",
       "      <th>rating</th>\n",
       "      <th>product_content</th>\n",
       "      <th>product_content_wt</th>\n",
       "    </tr>\n",
       "  </thead>\n",
       "  <tbody>\n",
       "    <tr>\n",
       "      <th>0</th>\n",
       "      <td>0</td>\n",
       "      <td>48102821</td>\n",
       "      <td>4.0</td>\n",
       "      <td>Tai nghe Bluetooth Inpods 12 - Cảm biến vân ta...</td>\n",
       "      <td>vân chống nước nhạc từ sạc đầy chỉ khoảng chờ ...</td>\n",
       "    </tr>\n",
       "    <tr>\n",
       "      <th>1</th>\n",
       "      <td>1</td>\n",
       "      <td>52333193</td>\n",
       "      <td>4.5</td>\n",
       "      <td>Tai nghe bluetooth không dây F9 True wireless ...</td>\n",
       "      <td>không dây wireless có báo kép nhạc giờ giờ . o...</td>\n",
       "    </tr>\n",
       "    <tr>\n",
       "      <th>2</th>\n",
       "      <td>2</td>\n",
       "      <td>299461</td>\n",
       "      <td>4.8</td>\n",
       "      <td>Chuột Không Dây Logitech M331 Silent - Hàng Ch...</td>\n",
       "      <td>chuột không dây hàng chính hãng thương hiệu cá...</td>\n",
       "    </tr>\n",
       "    <tr>\n",
       "      <th>3</th>\n",
       "      <td>3</td>\n",
       "      <td>57440329</td>\n",
       "      <td>4.7</td>\n",
       "      <td>Loa Bluetooth 5.0 Kiêm Đồng Hồ Báo Thức - [[ 2...</td>\n",
       "      <td>robot hàng chính hãng acome sku chính hãng aco...</td>\n",
       "    </tr>\n",
       "    <tr>\n",
       "      <th>4</th>\n",
       "      <td>4</td>\n",
       "      <td>38458616</td>\n",
       "      <td>4.8</td>\n",
       "      <td>Tai Nghe Bluetooth Apple AirPods Pro True Wire...</td>\n",
       "      <td>hàng chính hãng mỹ hộp sạc sạc sku và nhỏ gọn ...</td>\n",
       "    </tr>\n",
       "  </tbody>\n",
       "</table>\n",
       "</div>"
      ],
      "text/plain": [
       "   index   item_id  rating                                    product_content  \\\n",
       "0      0  48102821     4.0  Tai nghe Bluetooth Inpods 12 - Cảm biến vân ta...   \n",
       "1      1  52333193     4.5  Tai nghe bluetooth không dây F9 True wireless ...   \n",
       "2      2    299461     4.8  Chuột Không Dây Logitech M331 Silent - Hàng Ch...   \n",
       "3      3  57440329     4.7  Loa Bluetooth 5.0 Kiêm Đồng Hồ Báo Thức - [[ 2...   \n",
       "4      4  38458616     4.8  Tai Nghe Bluetooth Apple AirPods Pro True Wire...   \n",
       "\n",
       "                                  product_content_wt  \n",
       "0  vân chống nước nhạc từ sạc đầy chỉ khoảng chờ ...  \n",
       "1  không dây wireless có báo kép nhạc giờ giờ . o...  \n",
       "2  chuột không dây hàng chính hãng thương hiệu cá...  \n",
       "3  robot hàng chính hãng acome sku chính hãng aco...  \n",
       "4  hàng chính hãng mỹ hộp sạc sạc sku và nhỏ gọn ...  "
      ]
     },
     "execution_count": 13,
     "metadata": {},
     "output_type": "execute_result"
    }
   ],
   "source": [
    "products.head()"
   ]
  },
  {
   "cell_type": "markdown",
   "metadata": {},
   "source": [
    "### Tokenize và Xóa thêm một vài kí tự đặc biệt trong text"
   ]
  },
  {
   "cell_type": "code",
   "execution_count": 14,
   "metadata": {
    "id": "vKHRaZD3auj2"
   },
   "outputs": [],
   "source": [
    "products_gem = [[text for text in x.split()] for x in products.product_content_wt]"
   ]
  },
  {
   "cell_type": "code",
   "execution_count": 15,
   "metadata": {
    "id": "LI_q6oEMa5U-"
   },
   "outputs": [],
   "source": [
    "products_gem_re = [[re.sub('[0-9]+','', e) for e in text] for text in products_gem] # số\n",
    "products_gem_re = [[t.lower() for t in text if not t in ['', ' ', ',', '.', '...', '-',':', ';', '?', '%', '(', ')', '+', '/', 'g', 'ml']] for text in  products_gem_re] # ký tự đặc biệt\n",
    "products_gem_re = [[t for t in text if not t in stop_words] for text in products_gem_re] # stopword"
   ]
  },
  {
   "cell_type": "code",
   "execution_count": 16,
   "metadata": {},
   "outputs": [],
   "source": [
    "import pickle\n",
    "with open('products_gem_re.pkl', 'wb') as f:\n",
    "        pickle.dump(products_gem_re, f)"
   ]
  },
  {
   "cell_type": "markdown",
   "metadata": {},
   "source": [
    "### Thực hiện Gensim"
   ]
  },
  {
   "cell_type": "code",
   "execution_count": 17,
   "metadata": {
    "id": "r8OuuoOQbisO"
   },
   "outputs": [],
   "source": [
    "dictionary=corpora.Dictionary(products_gem_re)"
   ]
  },
  {
   "cell_type": "code",
   "execution_count": 18,
   "metadata": {
    "id": "xxqwRr_Stktk"
   },
   "outputs": [],
   "source": [
    "#number of features in dict\n",
    "feature_cnt = len(dictionary.token2id)"
   ]
  },
  {
   "cell_type": "code",
   "execution_count": 19,
   "metadata": {
    "id": "6h12vR7NtnZn"
   },
   "outputs": [],
   "source": [
    "#obtain corpus based on dict (dense matrix)\n",
    "corpus = [dictionary.doc2bow(text) for text in products_gem_re]"
   ]
  },
  {
   "cell_type": "code",
   "execution_count": 20,
   "metadata": {
    "id": "oyqoh4NFtq9h"
   },
   "outputs": [],
   "source": [
    "#use tf-idf model to process corpus, obtain index\n",
    "tfidf = models.TfidfModel(corpus)\n",
    "#tính toán sự tương quan trong ma trận thưa thớt\n",
    "index = similarities.SparseMatrixSimilarity(tfidf[corpus], num_features=feature_cnt)\n",
    "#index là ma trận lưu s75 tương quan của các từ, từ na2p lặp nhìu lần thì điểm cao"
   ]
  },
  {
   "cell_type": "code",
   "execution_count": 21,
   "metadata": {},
   "outputs": [
    {
     "data": {
      "text/html": [
       "<div>\n",
       "<style scoped>\n",
       "    .dataframe tbody tr th:only-of-type {\n",
       "        vertical-align: middle;\n",
       "    }\n",
       "\n",
       "    .dataframe tbody tr th {\n",
       "        vertical-align: top;\n",
       "    }\n",
       "\n",
       "    .dataframe thead th {\n",
       "        text-align: right;\n",
       "    }\n",
       "</style>\n",
       "<table border=\"1\" class=\"dataframe\">\n",
       "  <thead>\n",
       "    <tr style=\"text-align: right;\">\n",
       "      <th></th>\n",
       "      <th>index</th>\n",
       "      <th>item_id</th>\n",
       "      <th>rating</th>\n",
       "      <th>product_content</th>\n",
       "      <th>product_content_wt</th>\n",
       "    </tr>\n",
       "  </thead>\n",
       "  <tbody>\n",
       "    <tr>\n",
       "      <th>0</th>\n",
       "      <td>0</td>\n",
       "      <td>48102821</td>\n",
       "      <td>4.0</td>\n",
       "      <td>Tai nghe Bluetooth Inpods 12 - Cảm biến vân ta...</td>\n",
       "      <td>vân chống nước nhạc từ sạc đầy chỉ khoảng chờ ...</td>\n",
       "    </tr>\n",
       "    <tr>\n",
       "      <th>1</th>\n",
       "      <td>1</td>\n",
       "      <td>52333193</td>\n",
       "      <td>4.5</td>\n",
       "      <td>Tai nghe bluetooth không dây F9 True wireless ...</td>\n",
       "      <td>không dây wireless có báo kép nhạc giờ giờ . o...</td>\n",
       "    </tr>\n",
       "    <tr>\n",
       "      <th>2</th>\n",
       "      <td>2</td>\n",
       "      <td>299461</td>\n",
       "      <td>4.8</td>\n",
       "      <td>Chuột Không Dây Logitech M331 Silent - Hàng Ch...</td>\n",
       "      <td>chuột không dây hàng chính hãng thương hiệu cá...</td>\n",
       "    </tr>\n",
       "  </tbody>\n",
       "</table>\n",
       "</div>"
      ],
      "text/plain": [
       "   index   item_id  rating                                    product_content  \\\n",
       "0      0  48102821     4.0  Tai nghe Bluetooth Inpods 12 - Cảm biến vân ta...   \n",
       "1      1  52333193     4.5  Tai nghe bluetooth không dây F9 True wireless ...   \n",
       "2      2    299461     4.8  Chuột Không Dây Logitech M331 Silent - Hàng Ch...   \n",
       "\n",
       "                                  product_content_wt  \n",
       "0  vân chống nước nhạc từ sạc đầy chỉ khoảng chờ ...  \n",
       "1  không dây wireless có báo kép nhạc giờ giờ . o...  \n",
       "2  chuột không dây hàng chính hãng thương hiệu cá...  "
      ]
     },
     "execution_count": 21,
     "metadata": {},
     "output_type": "execute_result"
    }
   ],
   "source": [
    "products.head(3)"
   ]
  },
  {
   "cell_type": "code",
   "execution_count": 22,
   "metadata": {},
   "outputs": [],
   "source": [
    "product_ID= 299461\n",
    "product= products[products.item_id==product_ID].head(1)"
   ]
  },
  {
   "cell_type": "code",
   "execution_count": 23,
   "metadata": {},
   "outputs": [
    {
     "data": {
      "text/html": [
       "<div>\n",
       "<style scoped>\n",
       "    .dataframe tbody tr th:only-of-type {\n",
       "        vertical-align: middle;\n",
       "    }\n",
       "\n",
       "    .dataframe tbody tr th {\n",
       "        vertical-align: top;\n",
       "    }\n",
       "\n",
       "    .dataframe thead th {\n",
       "        text-align: right;\n",
       "    }\n",
       "</style>\n",
       "<table border=\"1\" class=\"dataframe\">\n",
       "  <thead>\n",
       "    <tr style=\"text-align: right;\">\n",
       "      <th></th>\n",
       "      <th>index</th>\n",
       "      <th>item_id</th>\n",
       "      <th>product_content</th>\n",
       "    </tr>\n",
       "  </thead>\n",
       "  <tbody>\n",
       "    <tr>\n",
       "      <th>2</th>\n",
       "      <td>2</td>\n",
       "      <td>299461</td>\n",
       "      <td>Chuột Không Dây Logitech M331 Silent - Hàng Ch...</td>\n",
       "    </tr>\n",
       "  </tbody>\n",
       "</table>\n",
       "</div>"
      ],
      "text/plain": [
       "   index  item_id                                    product_content\n",
       "2      2   299461  Chuột Không Dây Logitech M331 Silent - Hàng Ch..."
      ]
     },
     "execution_count": 23,
     "metadata": {},
     "output_type": "execute_result"
    }
   ],
   "source": [
    "product[[\"index\",\"item_id\",\"product_content\"]]"
   ]
  },
  {
   "cell_type": "markdown",
   "metadata": {},
   "source": [
    "### Chọn Product để thực hiện Recommend"
   ]
  },
  {
   "cell_type": "code",
   "execution_count": 24,
   "metadata": {},
   "outputs": [
    {
     "data": {
      "text/plain": [
       "'Chuột Không Dây Logitech M331 Silent - Hàng Chính Hãng THÔNG TIN CHI TIẾT\\nThương hiệu Logitech\\nĐộ phân giải quang học 1000DPI\\nModel M331\\nLưu ý\\nCách kéo dài tuổi thọ pin cho chuột:\\nOn/ Off nguồn mỗi khi không sử dụng lâu hoặc hết giờ làm việc\\nHãy đảm bảo phần USB nhận tín hiệu (Receiver) gần chuột nhất có thể\\nTránh sử dụng bàn chuột màu tối hoặc đục mờ. Mắt cảm ứng là phần tiêu hao năng lượng nhiều nhất của chuột, nó tốn nhiều năng lượng hơn trên bề mặt tối, đục hay gồ ghề\\nHãy dùng bàn chuột màu sáng và mượt để tối ưu việc sử dụng năng lượng\\nSử dụng pin cùng dung lượng và cùng hãng để tăng hiệu suất của pin\\nXuất xứ Trung Quốc\\nSKU 3057399746627\\nMÔ TẢ SẢN PHẨM\\nĐộ phân giải: 1000DPI\\n3 nút nhấn cơ bản và 1 cần gạt on/of\\nKết nối không dây 2.4Ghz\\nKhoảng cách kết nối: 10m\\nSử dụng pin AA với cảm biến quang giúp kéo dài tuổi thọ pin\\nThiết kế sang trọng\\nChuột Không Dây Logitech M331 Silent được thiết kế với các đường cong uốn lượn, bo tròn và ôm sát lòng bàn tay, giúp người sử dụng giảm bớt sự đau mỏi của cổ tay và ngón tay. Hai bên thân chuột có các khối hình tam giác nhỏ được sắp xếp liền kề nhau tạo độ bám giúp các ngón tay không bị trơn trượt trong quá trình sử dụng. Ngoài ra kích thước nhỏ gọn, sản phẩm có thể được bạn đem theo bên mình và sử dụng khi cần thiết.\\nCông nghệ chuột quang tiên tiến\\nSản phẩm được trang bị công nghệ chuột quang tiên tiến cho độ phân giải lên đến 1000dpi. Độ phân giải cao giúp , chuột có thể di chuyển nhanh và mượt mà trên nhiều bền mặt, đảm bảo hiệu quả cho công việc, học tập cũng như giải trí.\\nThời lượng pin lên tới 24 tháng\\nĐặc biệt, chuộtLogitech M331 có thể hoạt động liên tục với pin AA 24 tháng, giúp bạn tiết kiệm chi phí hơn và không còn lo lắng công việc bị gián đoạn giữa chừng. Ngoài ra chuột sẽ tự động ngắt khi bạn không sử dụng nữa.\\nKhông gây ra tiếng động khi sử dụng\\nChuột không dây Logitech M331 được gắn mã Quiet Mark, nghĩa là không gây ra tiếng động trong quá trình sử dụng. Điều này đặc biệt hữu ích với những người làm việc đêm tránh ảnh hưởng tới những người xung quanh, hoặc trong môi trường yêu cầu sự yên lặng.\\nGiá sản phẩm trên Tiki đã bao gồm thuế theo luật hiện hành. Tuy nhiên tuỳ vào từng loại sản phẩm hoặc phương thức, địa chỉ giao hàng mà có thể phát sinh thêm chi phí khác như phí vận chuyển, phụ phí hàng cồng kềnh, ...\\n'"
      ]
     },
     "execution_count": 24,
     "metadata": {},
     "output_type": "execute_result"
    }
   ],
   "source": [
    "products.loc[products[\"item_id\"]==299461][\"product_content\"].values[0]"
   ]
  },
  {
   "cell_type": "code",
   "execution_count": 25,
   "metadata": {},
   "outputs": [],
   "source": [
    "#sản phẩm đang xem\n",
    "name_description_pre=product[\"product_content\"].to_string(index=False)"
   ]
  },
  {
   "cell_type": "code",
   "execution_count": 26,
   "metadata": {},
   "outputs": [
    {
     "data": {
      "text/plain": [
       "'Chuột Không Dây Logitech M331 Silent - Hàng Chí...'"
      ]
     },
     "execution_count": 26,
     "metadata": {},
     "output_type": "execute_result"
    }
   ],
   "source": [
    "name_description_pre"
   ]
  },
  {
   "cell_type": "code",
   "execution_count": 27,
   "metadata": {},
   "outputs": [],
   "source": [
    "def recomender(view_product,dictionary,tfidf,index):\n",
    "    view_product=view_product.lower().split()\n",
    "    kw_vector=dictionary.doc2bow(view_product)\n",
    "    print(\"View product's vector:\")\n",
    "    print(kw_vector)\n",
    "    \n",
    "    #similarity calculation\n",
    "    sim=index[tfidf[kw_vector]]\n",
    "    \n",
    "    list_id=[]\n",
    "    list_score=[]\n",
    "    for i in range(len(sim)):\n",
    "        list_id.append(i)\n",
    "        list_score.append(sim[i])\n",
    "        \n",
    "    df_result=pd.DataFrame({\"id\":list_id, \"score\":list_score})\n",
    "    \n",
    "    #five highest scores\n",
    "    five_highest_score=df_result.sort_values(by=\"score\",ascending=False).head()\n",
    "    print(\"Five highest scores: \")\n",
    "    print(five_highest_score)\n",
    "    print(\"Ids to list:\")\n",
    "    idToList=list(five_highest_score[\"id\"])\n",
    "    print(idToList)\n",
    "    \n",
    "    products_find=products[products.index.isin(idToList)]\n",
    "    results=products_find[[\"index\",\"item_id\",\"product_content\"]]\n",
    "    results=pd.concat([results,five_highest_score],axis=1).sort_values(by=\"score\",ascending=False)\n",
    "    return results"
   ]
  },
  {
   "cell_type": "code",
   "execution_count": 28,
   "metadata": {},
   "outputs": [
    {
     "name": "stdout",
     "output_type": "stream",
     "text": [
      "View product's vector:\n",
      "[(35, 1), (42, 1), (75, 1), (257, 1), (483, 1)]\n",
      "Five highest scores: \n",
      "        id     score\n",
      "28      28  0.547776\n",
      "355    355  0.508629\n",
      "326    326  0.441103\n",
      "149    149  0.354824\n",
      "2023  2023  0.354824\n",
      "Ids to list:\n",
      "[28, 355, 326, 149, 2023]\n"
     ]
    }
   ],
   "source": [
    "results=recomender(name_description_pre,dictionary,tfidf,index)"
   ]
  },
  {
   "cell_type": "markdown",
   "metadata": {},
   "source": [
    "### Đề xuất 5 sản phẩm tương tự cho sản phẩm đã chọn"
   ]
  },
  {
   "cell_type": "code",
   "execution_count": 29,
   "metadata": {},
   "outputs": [
    {
     "data": {
      "text/html": [
       "<div>\n",
       "<style scoped>\n",
       "    .dataframe tbody tr th:only-of-type {\n",
       "        vertical-align: middle;\n",
       "    }\n",
       "\n",
       "    .dataframe tbody tr th {\n",
       "        vertical-align: top;\n",
       "    }\n",
       "\n",
       "    .dataframe thead th {\n",
       "        text-align: right;\n",
       "    }\n",
       "</style>\n",
       "<table border=\"1\" class=\"dataframe\">\n",
       "  <thead>\n",
       "    <tr style=\"text-align: right;\">\n",
       "      <th></th>\n",
       "      <th>index</th>\n",
       "      <th>item_id</th>\n",
       "      <th>product_content</th>\n",
       "      <th>id</th>\n",
       "      <th>score</th>\n",
       "    </tr>\n",
       "  </thead>\n",
       "  <tbody>\n",
       "    <tr>\n",
       "      <th>28</th>\n",
       "      <td>28</td>\n",
       "      <td>916784</td>\n",
       "      <td>Chuột Không Dây Logitech M590 Slient - Hàng Ch...</td>\n",
       "      <td>28</td>\n",
       "      <td>0.547776</td>\n",
       "    </tr>\n",
       "    <tr>\n",
       "      <th>355</th>\n",
       "      <td>355</td>\n",
       "      <td>515550</td>\n",
       "      <td>Bộ Bàn Phím Và Chuột Không Dây Logitech MK235 ...</td>\n",
       "      <td>355</td>\n",
       "      <td>0.508629</td>\n",
       "    </tr>\n",
       "    <tr>\n",
       "      <th>326</th>\n",
       "      <td>326</td>\n",
       "      <td>899588</td>\n",
       "      <td>Chuột Không Dây DareU LM115G - Hàng Chính Hãng...</td>\n",
       "      <td>326</td>\n",
       "      <td>0.441103</td>\n",
       "    </tr>\n",
       "    <tr>\n",
       "      <th>149</th>\n",
       "      <td>149</td>\n",
       "      <td>9830444</td>\n",
       "      <td>Chuột Không Dây Logitech M238 Marvel Collectio...</td>\n",
       "      <td>149</td>\n",
       "      <td>0.354824</td>\n",
       "    </tr>\n",
       "    <tr>\n",
       "      <th>2023</th>\n",
       "      <td>2023</td>\n",
       "      <td>9830444</td>\n",
       "      <td>Chuột Không Dây Logitech M238 Marvel Collectio...</td>\n",
       "      <td>2023</td>\n",
       "      <td>0.354824</td>\n",
       "    </tr>\n",
       "  </tbody>\n",
       "</table>\n",
       "</div>"
      ],
      "text/plain": [
       "      index  item_id                                    product_content    id  \\\n",
       "28       28   916784  Chuột Không Dây Logitech M590 Slient - Hàng Ch...    28   \n",
       "355     355   515550  Bộ Bàn Phím Và Chuột Không Dây Logitech MK235 ...   355   \n",
       "326     326   899588  Chuột Không Dây DareU LM115G - Hàng Chính Hãng...   326   \n",
       "149     149  9830444  Chuột Không Dây Logitech M238 Marvel Collectio...   149   \n",
       "2023   2023  9830444  Chuột Không Dây Logitech M238 Marvel Collectio...  2023   \n",
       "\n",
       "         score  \n",
       "28    0.547776  \n",
       "355   0.508629  \n",
       "326   0.441103  \n",
       "149   0.354824  \n",
       "2023  0.354824  "
      ]
     },
     "execution_count": 29,
     "metadata": {},
     "output_type": "execute_result"
    }
   ],
   "source": [
    "results= results[results.item_id != product_ID]\n",
    "results"
   ]
  },
  {
   "cell_type": "code",
   "execution_count": 81,
   "metadata": {
    "id": "pGKPUYd0nizj"
   },
   "outputs": [],
   "source": [
    "# products.to_csv(\"pre_products.csv\")"
   ]
  }
 ],
 "metadata": {
  "colab": {
   "authorship_tag": "ABX9TyN0J0CQ6wh3c+A67hsaRcYN",
   "provenance": []
  },
  "kernelspec": {
   "display_name": "Python 3 (ipykernel)",
   "language": "python",
   "name": "python3"
  },
  "language_info": {
   "codemirror_mode": {
    "name": "ipython",
    "version": 3
   },
   "file_extension": ".py",
   "mimetype": "text/x-python",
   "name": "python",
   "nbconvert_exporter": "python",
   "pygments_lexer": "ipython3",
   "version": "3.9.13"
  }
 },
 "nbformat": 4,
 "nbformat_minor": 1
}
